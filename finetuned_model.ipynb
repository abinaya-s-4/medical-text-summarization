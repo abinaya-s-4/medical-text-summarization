{
 "cells": [
  {
   "cell_type": "code",
   "execution_count": 1,
   "id": "216c62e5-0ea1-4a9e-bf6a-764b775abdef",
   "metadata": {},
   "outputs": [
    {
     "name": "stdout",
     "output_type": "stream",
     "text": [
      "Requirement already satisfied: peft in c:\\users\\abinaya s\\medical-text-summarization\\env\\lib\\site-packages (0.14.0)Note: you may need to restart the kernel to use updated packages.\n",
      "\n",
      "Requirement already satisfied: transformers in c:\\users\\abinaya s\\medical-text-summarization\\env\\lib\\site-packages (4.48.0)\n",
      "Requirement already satisfied: datasets in c:\\users\\abinaya s\\medical-text-summarization\\env\\lib\\site-packages (3.2.0)\n",
      "Requirement already satisfied: torch in c:\\users\\abinaya s\\medical-text-summarization\\env\\lib\\site-packages (2.5.1)\n",
      "Requirement already satisfied: accelerate in c:\\users\\abinaya s\\medical-text-summarization\\env\\lib\\site-packages (1.2.1)\n",
      "Requirement already satisfied: numpy>=1.17 in c:\\users\\abinaya s\\medical-text-summarization\\env\\lib\\site-packages (from peft) (2.2.1)\n",
      "Requirement already satisfied: packaging>=20.0 in c:\\users\\abinaya s\\medical-text-summarization\\env\\lib\\site-packages (from peft) (24.2)\n",
      "Requirement already satisfied: psutil in c:\\users\\abinaya s\\medical-text-summarization\\env\\lib\\site-packages (from peft) (6.1.1)\n",
      "Requirement already satisfied: pyyaml in c:\\users\\abinaya s\\medical-text-summarization\\env\\lib\\site-packages (from peft) (6.0.2)\n",
      "Requirement already satisfied: tqdm in c:\\users\\abinaya s\\medical-text-summarization\\env\\lib\\site-packages (from peft) (4.67.1)\n",
      "Requirement already satisfied: safetensors in c:\\users\\abinaya s\\medical-text-summarization\\env\\lib\\site-packages (from peft) (0.5.2)\n",
      "Requirement already satisfied: huggingface-hub>=0.25.0 in c:\\users\\abinaya s\\medical-text-summarization\\env\\lib\\site-packages (from peft) (0.27.1)\n",
      "Requirement already satisfied: filelock in c:\\users\\abinaya s\\medical-text-summarization\\env\\lib\\site-packages (from transformers) (3.16.1)\n",
      "Requirement already satisfied: regex!=2019.12.17 in c:\\users\\abinaya s\\medical-text-summarization\\env\\lib\\site-packages (from transformers) (2024.11.6)\n",
      "Requirement already satisfied: requests in c:\\users\\abinaya s\\medical-text-summarization\\env\\lib\\site-packages (from transformers) (2.32.3)\n",
      "Requirement already satisfied: tokenizers<0.22,>=0.21 in c:\\users\\abinaya s\\medical-text-summarization\\env\\lib\\site-packages (from transformers) (0.21.0)\n",
      "Requirement already satisfied: pyarrow>=15.0.0 in c:\\users\\abinaya s\\medical-text-summarization\\env\\lib\\site-packages (from datasets) (18.1.0)\n",
      "Requirement already satisfied: dill<0.3.9,>=0.3.0 in c:\\users\\abinaya s\\medical-text-summarization\\env\\lib\\site-packages (from datasets) (0.3.8)\n",
      "Requirement already satisfied: pandas in c:\\users\\abinaya s\\medical-text-summarization\\env\\lib\\site-packages (from datasets) (2.2.3)\n",
      "Requirement already satisfied: xxhash in c:\\users\\abinaya s\\medical-text-summarization\\env\\lib\\site-packages (from datasets) (3.5.0)\n",
      "Requirement already satisfied: multiprocess<0.70.17 in c:\\users\\abinaya s\\medical-text-summarization\\env\\lib\\site-packages (from datasets) (0.70.16)\n",
      "Requirement already satisfied: fsspec<=2024.9.0,>=2023.1.0 in c:\\users\\abinaya s\\medical-text-summarization\\env\\lib\\site-packages (from fsspec[http]<=2024.9.0,>=2023.1.0->datasets) (2024.9.0)\n",
      "Requirement already satisfied: aiohttp in c:\\users\\abinaya s\\medical-text-summarization\\env\\lib\\site-packages (from datasets) (3.11.11)\n",
      "Requirement already satisfied: typing-extensions>=4.8.0 in c:\\users\\abinaya s\\medical-text-summarization\\env\\lib\\site-packages (from torch) (4.12.2)\n",
      "Requirement already satisfied: networkx in c:\\users\\abinaya s\\medical-text-summarization\\env\\lib\\site-packages (from torch) (3.4.2)\n",
      "Requirement already satisfied: jinja2 in c:\\users\\abinaya s\\medical-text-summarization\\env\\lib\\site-packages (from torch) (3.1.5)\n",
      "Requirement already satisfied: setuptools in c:\\users\\abinaya s\\medical-text-summarization\\env\\lib\\site-packages (from torch) (75.8.0)\n",
      "Requirement already satisfied: sympy==1.13.1 in c:\\users\\abinaya s\\medical-text-summarization\\env\\lib\\site-packages (from torch) (1.13.1)\n",
      "Requirement already satisfied: mpmath<1.4,>=1.1.0 in c:\\users\\abinaya s\\medical-text-summarization\\env\\lib\\site-packages (from sympy==1.13.1->torch) (1.3.0)\n",
      "Requirement already satisfied: aiohappyeyeballs>=2.3.0 in c:\\users\\abinaya s\\medical-text-summarization\\env\\lib\\site-packages (from aiohttp->datasets) (2.4.4)\n",
      "Requirement already satisfied: aiosignal>=1.1.2 in c:\\users\\abinaya s\\medical-text-summarization\\env\\lib\\site-packages (from aiohttp->datasets) (1.3.2)\n",
      "Requirement already satisfied: attrs>=17.3.0 in c:\\users\\abinaya s\\medical-text-summarization\\env\\lib\\site-packages (from aiohttp->datasets) (24.3.0)\n",
      "Requirement already satisfied: frozenlist>=1.1.1 in c:\\users\\abinaya s\\medical-text-summarization\\env\\lib\\site-packages (from aiohttp->datasets) (1.5.0)\n",
      "Requirement already satisfied: multidict<7.0,>=4.5 in c:\\users\\abinaya s\\medical-text-summarization\\env\\lib\\site-packages (from aiohttp->datasets) (6.1.0)\n",
      "Requirement already satisfied: propcache>=0.2.0 in c:\\users\\abinaya s\\medical-text-summarization\\env\\lib\\site-packages (from aiohttp->datasets) (0.2.1)\n",
      "Requirement already satisfied: yarl<2.0,>=1.17.0 in c:\\users\\abinaya s\\medical-text-summarization\\env\\lib\\site-packages (from aiohttp->datasets) (1.18.3)\n",
      "Requirement already satisfied: charset-normalizer<4,>=2 in c:\\users\\abinaya s\\medical-text-summarization\\env\\lib\\site-packages (from requests->transformers) (3.4.1)\n",
      "Requirement already satisfied: idna<4,>=2.5 in c:\\users\\abinaya s\\medical-text-summarization\\env\\lib\\site-packages (from requests->transformers) (3.10)\n",
      "Requirement already satisfied: urllib3<3,>=1.21.1 in c:\\users\\abinaya s\\medical-text-summarization\\env\\lib\\site-packages (from requests->transformers) (2.3.0)\n",
      "Requirement already satisfied: certifi>=2017.4.17 in c:\\users\\abinaya s\\medical-text-summarization\\env\\lib\\site-packages (from requests->transformers) (2024.12.14)\n",
      "Requirement already satisfied: colorama in c:\\users\\abinaya s\\medical-text-summarization\\env\\lib\\site-packages (from tqdm->peft) (0.4.6)\n",
      "Requirement already satisfied: MarkupSafe>=2.0 in c:\\users\\abinaya s\\medical-text-summarization\\env\\lib\\site-packages (from jinja2->torch) (3.0.2)\n",
      "Requirement already satisfied: python-dateutil>=2.8.2 in c:\\users\\abinaya s\\medical-text-summarization\\env\\lib\\site-packages (from pandas->datasets) (2.9.0.post0)\n",
      "Requirement already satisfied: pytz>=2020.1 in c:\\users\\abinaya s\\medical-text-summarization\\env\\lib\\site-packages (from pandas->datasets) (2024.2)\n",
      "Requirement already satisfied: tzdata>=2022.7 in c:\\users\\abinaya s\\medical-text-summarization\\env\\lib\\site-packages (from pandas->datasets) (2024.2)\n",
      "Requirement already satisfied: six>=1.5 in c:\\users\\abinaya s\\medical-text-summarization\\env\\lib\\site-packages (from python-dateutil>=2.8.2->pandas->datasets) (1.17.0)\n"
     ]
    }
   ],
   "source": [
    "pip install peft transformers datasets torch accelerate\n"
   ]
  },
  {
   "cell_type": "code",
   "execution_count": 2,
   "id": "3565563f-c33f-4aca-b489-43394898b132",
   "metadata": {},
   "outputs": [],
   "source": [
    "from transformers import AutoTokenizer, AutoModelForSeq2SeqLM, TrainingArguments, Trainer\n",
    "from datasets import load_dataset\n",
    "from peft import LoraConfig, PeftModel, get_peft_model\n"
   ]
  },
  {
   "cell_type": "code",
   "execution_count": 3,
   "id": "ad59f66c-2562-40a5-a381-d6fbbf086714",
   "metadata": {},
   "outputs": [],
   "source": [
    "model_name = \"facebook/bart-large-cnn\"\n",
    "tokenizer = AutoTokenizer.from_pretrained(model_name)\n",
    "model = AutoModelForSeq2SeqLM.from_pretrained(model_name)\n"
   ]
  },
  {
   "cell_type": "code",
   "execution_count": null,
   "id": "9144739d-f386-46b5-945d-b7a7d22efc9c",
   "metadata": {},
   "outputs": [],
   "source": [
    "\n"
   ]
  },
  {
   "cell_type": "code",
   "execution_count": 4,
   "id": "f98106a0-23cc-4618-b7ce-fed6563fb57f",
   "metadata": {},
   "outputs": [
    {
     "name": "stderr",
     "output_type": "stream",
     "text": [
      "The installed version of bitsandbytes was compiled without GPU support. 8-bit optimizers, 8-bit multiplication, and GPU quantization are unavailable.\n"
     ]
    },
    {
     "name": "stdout",
     "output_type": "stream",
     "text": [
      "trainable params: 73,728 || all params: 406,364,160 || trainable%: 0.0181\n"
     ]
    }
   ],
   "source": [
    "from peft import LoraConfig, get_peft_model\n",
    "\n",
    "# Define LoRA configuration\n",
    "\n",
    "lora_config = LoraConfig(\n",
    "    r=1,  # Integer rank value\n",
    "    lora_alpha=16,  # Scaling factor\n",
    "    target_modules=[\"q_proj\"],  # Reduced target modules\n",
    "    lora_dropout=0.2,  # Increased dropout rate\n",
    "    bias=\"none\",  # No bias fine-tuning\n",
    "    task_type=\"SEQ_2_SEQ_LM\"  # Task type\n",
    ")\n",
    "\n",
    "# Apply LoRA to the model\n",
    "peft_model = get_peft_model(model, lora_config)\n",
    "peft_model.print_trainable_parameters()\n",
    "\n",
    "\n"
   ]
  },
  {
   "cell_type": "code",
   "execution_count": 5,
   "id": "475a7d26-8762-403c-9717-cdbddf9c069b",
   "metadata": {},
   "outputs": [
    {
     "data": {
      "application/vnd.jupyter.widget-view+json": {
       "model_id": "629d672329864b458f4b06cc1a25a446",
       "version_major": 2,
       "version_minor": 0
      },
      "text/plain": [
       "Map:   0%|          | 0/4800 [00:00<?, ? examples/s]"
      ]
     },
     "metadata": {},
     "output_type": "display_data"
    },
    {
     "data": {
      "application/vnd.jupyter.widget-view+json": {
       "model_id": "4eff815ba7584d14946733b8d22f9213",
       "version_major": 2,
       "version_minor": 0
      },
      "text/plain": [
       "Map:   0%|          | 0/500 [00:00<?, ? examples/s]"
      ]
     },
     "metadata": {},
     "output_type": "display_data"
    },
    {
     "data": {
      "application/vnd.jupyter.widget-view+json": {
       "model_id": "edbad262d3bf44b2962d58231949e0ba",
       "version_major": 2,
       "version_minor": 0
      },
      "text/plain": [
       "Map:   0%|          | 0/500 [00:00<?, ? examples/s]"
      ]
     },
     "metadata": {},
     "output_type": "display_data"
    }
   ],
   "source": [
    "# Load datasets\n",
    "train_dataset = load_dataset('csv', data_files='data/preprocessed_train.csv')['train']\n",
    "val_dataset = load_dataset('csv', data_files='data/preprocessed_validation.csv')['train']\n",
    "test_dataset = load_dataset('csv', data_files='data/preprocessed_test.csv')['train']\n",
    "\n",
    "train_dataset = train_dataset.select(range(4800))  # **4800 samples for training**\n",
    "val_dataset = val_dataset.select(range(500))       # **500 samples for validation**\n",
    "test_dataset = test_dataset.select(range(500))\n",
    "\n",
    "# Preprocess function\n",
    "def preprocess_function(examples):\n",
    "    inputs = examples[\"article\"]\n",
    "    targets = examples[\"abstract\"]\n",
    "    model_inputs = tokenizer(inputs, max_length=1024, truncation=True, padding=\"max_length\")\n",
    "    labels = tokenizer(targets, max_length=150, truncation=True, padding=\"max_length\")\n",
    "    model_inputs[\"labels\"] = labels[\"input_ids\"]\n",
    "    return model_inputs\n",
    "\n",
    "# Tokenize datasets \n",
    "tokenized_train = train_dataset.map(preprocess_function, batched=True)\n",
    "tokenized_val = val_dataset.map(preprocess_function, batched=True)\n",
    "tokenized_test = test_dataset.map(preprocess_function, batched=True)"
   ]
  },
  {
   "cell_type": "code",
   "execution_count": 15,
   "id": "035749e7-0499-4f8a-b07e-fce0afb78a17",
   "metadata": {},
   "outputs": [
    {
     "data": {
      "application/vnd.jupyter.widget-view+json": {
       "model_id": "9324f8ec54d74c7a8971de13994b6c96",
       "version_major": 2,
       "version_minor": 0
      },
      "text/plain": [
       "Saving the dataset (0/1 shards):   0%|          | 0/4800 [00:00<?, ? examples/s]"
      ]
     },
     "metadata": {},
     "output_type": "display_data"
    },
    {
     "data": {
      "application/vnd.jupyter.widget-view+json": {
       "model_id": "18990abba0844215898e30257b802a29",
       "version_major": 2,
       "version_minor": 0
      },
      "text/plain": [
       "Saving the dataset (0/1 shards):   0%|          | 0/500 [00:00<?, ? examples/s]"
      ]
     },
     "metadata": {},
     "output_type": "display_data"
    },
    {
     "data": {
      "application/vnd.jupyter.widget-view+json": {
       "model_id": "85d8e8a38d804d2ab1ca8628bc5055aa",
       "version_major": 2,
       "version_minor": 0
      },
      "text/plain": [
       "Saving the dataset (0/1 shards):   0%|          | 0/500 [00:00<?, ? examples/s]"
      ]
     },
     "metadata": {},
     "output_type": "display_data"
    },
    {
     "name": "stdout",
     "output_type": "stream",
     "text": [
      "Requirement already satisfied: tensorboard in c:\\users\\abinaya s\\medical-text-summarization\\env\\lib\\site-packages (2.18.0)\n",
      "Requirement already satisfied: absl-py>=0.4 in c:\\users\\abinaya s\\medical-text-summarization\\env\\lib\\site-packages (from tensorboard) (2.1.0)\n",
      "Requirement already satisfied: grpcio>=1.48.2 in c:\\users\\abinaya s\\medical-text-summarization\\env\\lib\\site-packages (from tensorboard) (1.69.0)\n",
      "Requirement already satisfied: markdown>=2.6.8 in c:\\users\\abinaya s\\medical-text-summarization\\env\\lib\\site-packages (from tensorboard) (3.7)\n",
      "Requirement already satisfied: numpy>=1.12.0 in c:\\users\\abinaya s\\medical-text-summarization\\env\\lib\\site-packages (from tensorboard) (2.2.1)\n",
      "Requirement already satisfied: packaging in c:\\users\\abinaya s\\medical-text-summarization\\env\\lib\\site-packages (from tensorboard) (24.2)\n",
      "Requirement already satisfied: protobuf!=4.24.0,>=3.19.6 in c:\\users\\abinaya s\\medical-text-summarization\\env\\lib\\site-packages (from tensorboard) (5.29.3)\n",
      "Requirement already satisfied: setuptools>=41.0.0 in c:\\users\\abinaya s\\medical-text-summarization\\env\\lib\\site-packages (from tensorboard) (75.8.0)\n",
      "Requirement already satisfied: six>1.9 in c:\\users\\abinaya s\\medical-text-summarization\\env\\lib\\site-packages (from tensorboard) (1.17.0)\n",
      "Requirement already satisfied: tensorboard-data-server<0.8.0,>=0.7.0 in c:\\users\\abinaya s\\medical-text-summarization\\env\\lib\\site-packages (from tensorboard) (0.7.2)\n",
      "Requirement already satisfied: werkzeug>=1.0.1 in c:\\users\\abinaya s\\medical-text-summarization\\env\\lib\\site-packages (from tensorboard) (3.1.3)\n",
      "Requirement already satisfied: MarkupSafe>=2.1.1 in c:\\users\\abinaya s\\medical-text-summarization\\env\\lib\\site-packages (from werkzeug>=1.0.1->tensorboard) (3.0.2)\n"
     ]
    }
   ],
   "source": [
    "# Save preprocessed datasets for reuse\n",
    "tokenized_train.save_to_disk('data/tokenized_train')\n",
    "tokenized_val.save_to_disk('data/tokenized_val')\n",
    "tokenized_test.save_to_disk('data/tokenized_test')\n",
    "\n",
    "from transformers import TrainingArguments\n",
    "!pip install tensorboard\n",
    "\n",
    "training_args = TrainingArguments(\n",
    "    output_dir=\"./results\",\n",
    "    per_device_train_batch_size=4,\n",
    "    per_device_eval_batch_size=4,\n",
    "    num_train_epochs=1,             # Reduced for quicker runs\n",
    "    save_steps=50,                  # Save checkpoints every 50 steps\n",
    "    logging_steps=10,               # Log progress every 10 steps\n",
    "    eval_strategy=\"steps\",    # Evaluate every 'eval_steps'\n",
    "    eval_steps=1000,                  # Perform evaluation every 1000 steps\n",
    "    save_total_limit=2,             # Keep the last 2 checkpoints only\n",
    "    remove_unused_columns=False,    # Prevent dropping unused columns\n",
    "    fp16=True,                      # Enable mixed precision for faster training\n",
    "    disable_tqdm=False              # Enable progress bar in Jupyter Notebook\n",
    ")\n",
    "\n"
   ]
  },
  {
   "cell_type": "code",
   "execution_count": 16,
   "id": "32f7a0e2-e1c1-4829-96bc-5296ea0230f8",
   "metadata": {},
   "outputs": [
    {
     "data": {
      "text/html": [
       "\n",
       "    <div>\n",
       "      \n",
       "      <progress value='1200' max='1200' style='width:300px; height:20px; vertical-align: middle;'></progress>\n",
       "      [1200/1200 13:42:26, Epoch 1/1]\n",
       "    </div>\n",
       "    <table border=\"1\" class=\"dataframe\">\n",
       "  <thead>\n",
       " <tr style=\"text-align: left;\">\n",
       "      <th>Step</th>\n",
       "      <th>Training Loss</th>\n",
       "      <th>Validation Loss</th>\n",
       "    </tr>\n",
       "  </thead>\n",
       "  <tbody>\n",
       "    <tr>\n",
       "      <td>1000</td>\n",
       "      <td>2.959500</td>\n",
       "      <td>2.876822</td>\n",
       "    </tr>\n",
       "  </tbody>\n",
       "</table><p>"
      ],
      "text/plain": [
       "<IPython.core.display.HTML object>"
      ]
     },
     "metadata": {},
     "output_type": "display_data"
    },
    {
     "data": {
      "text/plain": [
       "('fine_tuned_bart_small\\\\tokenizer_config.json',\n",
       " 'fine_tuned_bart_small\\\\special_tokens_map.json',\n",
       " 'fine_tuned_bart_small\\\\vocab.json',\n",
       " 'fine_tuned_bart_small\\\\merges.txt',\n",
       " 'fine_tuned_bart_small\\\\added_tokens.json',\n",
       " 'fine_tuned_bart_small\\\\tokenizer.json')"
      ]
     },
     "execution_count": 16,
     "metadata": {},
     "output_type": "execute_result"
    }
   ],
   "source": [
    "from transformers import DataCollatorForSeq2Seq\n",
    "\n",
    "data_collator = DataCollatorForSeq2Seq(tokenizer=tokenizer, model=model, padding=\"longest\")\n",
    "\n",
    "# Define Trainer\n",
    "trainer = Trainer(\n",
    "    model=model,\n",
    "    args=training_args,\n",
    "    train_dataset=tokenized_train,\n",
    "    eval_dataset=tokenized_val,\n",
    ")\n",
    "\n",
    "# **TRAIN THE MODEL**\n",
    "trainer.train()\n",
    "\n",
    "# **SAVE FINE-TUNED MODEL**\n",
    "model.save_pretrained(\"fine_tuned_bart_small\")\n",
    "tokenizer.save_pretrained(\"fine_tuned_bart_small\")\n"
   ]
  },
  {
   "cell_type": "code",
   "execution_count": 17,
   "id": "f9a217be-b5a0-429b-ba9c-81a19f805cc1",
   "metadata": {},
   "outputs": [],
   "source": [
    "def summarize(text, model, tokenizer):\n",
    "    inputs = tokenizer(text, return_tensors=\"pt\", truncation=True, padding=True, max_length=1024).to(\"cuda\")\n",
    "    summary_ids = model.generate(inputs[\"input_ids\"], max_length=150, min_length=40, length_penalty=2.0, num_beams=4)\n",
    "    return tokenizer.decode(summary_ids[0], skip_special_tokens=True)"
   ]
  },
  {
   "cell_type": "code",
   "execution_count": null,
   "id": "7e3c4932-9f79-4fb5-9743-4d8276556a66",
   "metadata": {},
   "outputs": [],
   "source": []
  }
 ],
 "metadata": {
  "kernelspec": {
   "display_name": "Python 3 (ipykernel)",
   "language": "python",
   "name": "python3"
  },
  "language_info": {
   "codemirror_mode": {
    "name": "ipython",
    "version": 3
   },
   "file_extension": ".py",
   "mimetype": "text/x-python",
   "name": "python",
   "nbconvert_exporter": "python",
   "pygments_lexer": "ipython3",
   "version": "3.12.8"
  }
 },
 "nbformat": 4,
 "nbformat_minor": 5
}
