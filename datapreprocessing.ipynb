{
 "cells": [
  {
   "cell_type": "code",
   "execution_count": 1,
   "id": "2f6ea7d2-7a10-43b1-8718-cf11276a8b7f",
   "metadata": {},
   "outputs": [
    {
     "name": "stdout",
     "output_type": "stream",
     "text": [
      "Train Data Sample:\n",
      "                                             article  \\\n",
      "0  a recent systematic analysis showed that in 20...   \n",
      "1  it occurs in more than 50% of patients and may...   \n",
      "2  tardive dystonia ( td ) , a rarer side effect ...   \n",
      "3  lepidoptera include agricultural pests that , ...   \n",
      "4  syncope is caused by transient diffuse cerebra...   \n",
      "\n",
      "                                            abstract  \n",
      "0  background : the present study was carried out...  \n",
      "1  backgroundanemia in patients with cancer who a...  \n",
      "2  tardive dystonia ( td ) is a serious side effe...  \n",
      "3  many lepidopteran insects are agricultural pes...  \n",
      "4  we present an unusual case of recurrent cough ...  \n",
      "\n",
      "Test Data Sample:\n",
      "                                             article  \\\n",
      "0  anxiety affects quality of life in those livin...   \n",
      "1  small non - coding rnas are transcribed into m...   \n",
      "2  ohss is a serious complication of ovulation in...   \n",
      "3  congenital adrenal hyperplasia ( cah ) refers ...   \n",
      "4  type 1 diabetes ( t1d ) results from the destr...   \n",
      "\n",
      "                                            abstract  \n",
      "0  research on the implications of anxiety in par...  \n",
      "1  small non - coding rnas include sirna , mirna ...  \n",
      "2  objective : to evaluate the efficacy and safet...  \n",
      "3  congenital adrenal hyperplasia is a group of a...  \n",
      "4  objective(s):pentoxifylline is an immunomodula...  \n",
      "\n",
      "Validation Data Sample:\n",
      "                                             article  \\\n",
      "0  venous thromboembolism ( vte ) comprising of d...   \n",
      "1  there is an epidemic of stroke in low and midd...   \n",
      "2  cardiovascular diseases account for the highes...   \n",
      "3  results of a liquid culturing system ( bd bact...   \n",
      "4  the need for magnetic resonance imaging ( mri ...   \n",
      "\n",
      "                                            abstract  \n",
      "0  background and aim : there is lack of substant...  \n",
      "1  backgroundthe questionnaire for verifying stro...  \n",
      "2  background : timely access to cardiovascular h...  \n",
      "3  to determine differences in the ability of myc...  \n",
      "4  aimsour aim was to evaluate the potential for ...  \n"
     ]
    }
   ],
   "source": [
    "\n",
    "import pandas as pd\n",
    "import numpy as np\n",
    "\n",
    "\n",
    "train_data = pd.read_csv('data/train.csv')\n",
    "test_data = pd.read_csv('data/test.csv')\n",
    "validate_data = pd.read_csv('data/validation.csv')\n",
    "\n",
    "\n",
    "print(\"Train Data Sample:\")\n",
    "print(train_data.head())\n",
    "print(\"\\nTest Data Sample:\")\n",
    "print(test_data.head())\n",
    "print(\"\\nValidation Data Sample:\")\n",
    "print(validate_data.head())\n"
   ]
  },
  {
   "cell_type": "code",
   "execution_count": 2,
   "id": "abbcca98-d744-4ff4-9f9d-30f9191ffed9",
   "metadata": {},
   "outputs": [
    {
     "name": "stdout",
     "output_type": "stream",
     "text": [
      "Missing Values in Train Data:\n",
      "article     2692\n",
      "abstract       0\n",
      "dtype: int64\n",
      "\n",
      "Missing Values in Test Data:\n",
      "article     0\n",
      "abstract    0\n",
      "dtype: int64\n",
      "\n",
      "Missing Values in Validation Data:\n",
      "article     0\n",
      "abstract    0\n",
      "dtype: int64\n"
     ]
    }
   ],
   "source": [
    "\n",
    "print(\"Missing Values in Train Data:\")\n",
    "print(train_data.isnull().sum())\n",
    "print(\"\\nMissing Values in Test Data:\")\n",
    "print(test_data.isnull().sum())\n",
    "print(\"\\nMissing Values in Validation Data:\")\n",
    "print(validate_data.isnull().sum())\n"
   ]
  },
  {
   "cell_type": "code",
   "execution_count": 3,
   "id": "a4bdaf7f-740e-4d92-98c0-3d60e8e39302",
   "metadata": {},
   "outputs": [
    {
     "name": "stdout",
     "output_type": "stream",
     "text": [
      "Missing values handled.\n"
     ]
    }
   ],
   "source": [
    "\n",
    "train_data.dropna(inplace=True)\n",
    "test_data.dropna(inplace=True)\n",
    "validate_data.dropna(inplace=True)\n",
    "\n",
    "print(\"Missing values handled.\")\n"
   ]
  },
  {
   "cell_type": "code",
   "execution_count": 4,
   "id": "7f8db35e-c6a2-412a-b969-610fd336ee53",
   "metadata": {},
   "outputs": [
    {
     "name": "stdout",
     "output_type": "stream",
     "text": [
      "Preprocessed datasets saved.\n"
     ]
    }
   ],
   "source": [
    "\n",
    "train_data.to_csv('data/preprocessed_train.csv', index=False)\n",
    "test_data.to_csv('data/preprocessed_test.csv', index=False)\n",
    "validate_data.to_csv('data/preprocessed_validation.csv', index=False)\n",
    "\n",
    "print(\"Preprocessed datasets saved.\")\n"
   ]
  },
  {
   "cell_type": "code",
   "execution_count": null,
   "id": "a6b9ae45-3981-4aff-834d-0e98475e900c",
   "metadata": {},
   "outputs": [],
   "source": [
    "\n"
   ]
  },
  {
   "cell_type": "code",
   "execution_count": null,
   "id": "53fa7949-f95e-4b24-9268-6f08406587ba",
   "metadata": {},
   "outputs": [],
   "source": []
  },
  {
   "cell_type": "code",
   "execution_count": null,
   "id": "9b189915-b38b-453e-8572-68d5486a7d4c",
   "metadata": {},
   "outputs": [],
   "source": []
  },
  {
   "cell_type": "code",
   "execution_count": null,
   "id": "72cc7ca3-3265-4d14-8ec0-64071b201751",
   "metadata": {},
   "outputs": [],
   "source": []
  }
 ],
 "metadata": {
  "kernelspec": {
   "display_name": "Python 3 (ipykernel)",
   "language": "python",
   "name": "python3"
  },
  "language_info": {
   "codemirror_mode": {
    "name": "ipython",
    "version": 3
   },
   "file_extension": ".py",
   "mimetype": "text/x-python",
   "name": "python",
   "nbconvert_exporter": "python",
   "pygments_lexer": "ipython3",
   "version": "3.12.8"
  }
 },
 "nbformat": 4,
 "nbformat_minor": 5
}
